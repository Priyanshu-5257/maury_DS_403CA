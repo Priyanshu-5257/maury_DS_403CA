{
 "cells": [
  {
   "cell_type": "code",
   "execution_count": 1,
   "id": "0cde9020",
   "metadata": {},
   "outputs": [
    {
     "name": "stderr",
     "output_type": "stream",
     "text": [
      "C:\\Users\\Priyanshu\\project_1\\env\\lib\\site-packages\\scipy\\__init__.py:146: UserWarning: A NumPy version >=1.16.5 and <1.23.0 is required for this version of SciPy (detected version 1.23.4\n",
      "  warnings.warn(f\"A NumPy version >={np_minversion} and <{np_maxversion}\"\n"
     ]
    }
   ],
   "source": [
    "import pandas as pd\n",
    "import numpy as np\n",
    "from sklearn.neighbors import BallTree\n",
    "from sklearn.metrics import mean_squared_error "
   ]
  },
  {
   "cell_type": "code",
   "execution_count": 20,
   "id": "2f41a6f9",
   "metadata": {},
   "outputs": [],
   "source": [
    "pd.options.mode.chained_assignment = None  # default='warn'\n",
    "import warnings\n",
    "warnings.filterwarnings('ignore')"
   ]
  },
  {
   "cell_type": "code",
   "execution_count": 36,
   "id": "9785f1e8",
   "metadata": {},
   "outputs": [],
   "source": [
    "df=pd.read_parquet(\"BMTC.parquet.gzip\",engine='pyarrow')"
   ]
  },
  {
   "cell_type": "code",
   "execution_count": 37,
   "id": "5b944fb6",
   "metadata": {},
   "outputs": [],
   "source": [
    "dfinput=pd.read_csv(\"Input.csv\",index_col=\"Unnamed: 0\")"
   ]
  },
  {
   "cell_type": "code",
   "execution_count": 38,
   "id": "462cae65",
   "metadata": {},
   "outputs": [],
   "source": [
    "def csd(lat1, lon1, lat2, lon2, r=6371):\n",
    "    coordinates = lat1, lon1, lat2, lon2\n",
    "#    phi1, lambda1, phi2, lambda2 = [\n",
    "#        radians(c) for c in coordinates\n",
    "#    ]    \n",
    "    phi1=np.radians(lat1)\n",
    "    lambda1=np.radians(lon1)\n",
    "    phi2=np.radians(lat2)\n",
    "    lambda2=np.radians(lon2)\n",
    "    a = (np.square(np.sin((phi2-phi1)/2)) + np.cos(phi1) * np.cos(phi2) * \n",
    "         np.square(np.sin((lambda2-lambda1)/2)))\n",
    "    d = 2*r*np.arcsin(np.sqrt(a))\n",
    "    return d"
   ]
  },
  {
   "cell_type": "code",
   "execution_count": 39,
   "id": "3451e63d",
   "metadata": {},
   "outputs": [],
   "source": [
    "def EstimatedTravelTime(df, test):\n",
    "    tstamp = df['Timestamp'].astype(\"string\").str.split(' ',expand=True)\n",
    "    tstamp=tstamp.drop(0,axis=1)\n",
    "    tstamp=tstamp[1].astype(\"string\").str.split(':',expand=True)\n",
    "    tstamp=tstamp.astype(int)\n",
    "    df[\"Time\"]=tstamp[0]*60 + tstamp[1] + tstamp[2]*(1/60)\n",
    "    df[\"Time\"]=df[\"Time\"]-df[\"Time\"][0]\n",
    "    df=df.drop(\"Timestamp\",axis=1)\n",
    "    busid=df[\"BusID\"].unique()\n",
    "    test_s=test.drop([\"Dest_Lat\",\"Dest_Long\"],axis=1)\n",
    "    test_d=test.drop([\"Source_Lat\",\"Source_Long\"],axis=1)\n",
    "\n",
    "    time_report=test.copy()\n",
    "    time_report=time_report.drop([\"Source_Lat\",\"Source_Long\",\"Dest_Lat\",\"Dest_Long\"],axis=1)\n",
    "\n",
    "    dist_report=test.copy()\n",
    "    dist_report=dist_report.drop([\"Source_Lat\",\"Source_Long\",\"Dest_Lat\",\"Dest_Long\"],axis=1)\n",
    "\n",
    "    dist=csd(test[\"Source_Lat\"],test[\"Source_Long\"],test[\"Dest_Lat\"],test[\"Dest_Long\"])\n",
    "    tt=[]\n",
    "    print(\"train_data_prepaired\")\n",
    "    \n",
    "    for i in busid:\n",
    "        bus=df[(df[\"BusID\"]==i)]\n",
    "        X=bus.drop([\"BusID\",\"Speed\",\"Time\"],axis=1)\n",
    "        bt=BallTree(X,metric='haversine')\n",
    "        KNN=8\n",
    "        if (len(bus)<KNN):\n",
    "             KNN=len(bus)\n",
    "        a,s=bt.query(test_s,k=KNN)\n",
    "        a,d=bt.query(test_d,k=KNN)\n",
    "    \n",
    "        #time=np.array(bus[\"Time\"])[d] - np.array(bus[\"Time\"])[s]\n",
    "        time=pd.DataFrame()\n",
    "        DD=pd.DataFrame(np.array(bus[\"Time\"])[d])\n",
    "        SS=pd.DataFrame(np.array(bus[\"Time\"])[s])\n",
    "        for p in range(KNN):\n",
    "            for q in range(KNN):\n",
    "                time[(p+1)*(q+1)]=DD[p]-SS[q]\n",
    "        time[(time<=0)]=100000\n",
    "        time=time.T.min()\n",
    "        time_report[i]=time\n",
    "    \n",
    "        lat_d=pd.DataFrame(np.array(bus[\"Latitude\"])[d]).T.min()\n",
    "        lat_s=pd.DataFrame(np.array(bus[\"Latitude\"])[s]).T.min()\n",
    "    \n",
    "        long_d=pd.DataFrame(np.array(bus[\"Longitude\"])[d]).T.min()\n",
    "        long_s=pd.DataFrame(np.array(bus[\"Longitude\"])[s]).T.min()    \n",
    "    \n",
    "        d_d=csd(lat_d,long_d,test[\"Dest_Lat\"],test[\"Dest_Long\"])\n",
    "        d_s=csd(lat_s,long_s,test[\"Source_Lat\"],test[\"Source_Long\"])\n",
    "        t_d=d_d + d_s\n",
    "        dist_report[i]=t_d\n",
    "    \n",
    "    for k in range(len(test)):\n",
    "        loc=loc=((5*dist_report.iloc[k] +1*dist_report.iloc[k]*time_report.iloc[k])==(5*dist_report.iloc[k] +1*dist_report.iloc[k]*time_report.iloc[k]).min())\n",
    "        t=time_report.iloc[k][loc]    \n",
    "        t=t+dist_report.iloc[k][loc]*6\n",
    "        tt.append(np.array(t))\n",
    "    test[\"ETT\"] = np.array(tt)\n",
    "    return(test)"
   ]
  },
  {
   "cell_type": "code",
   "execution_count": 40,
   "id": "3d5e025f",
   "metadata": {},
   "outputs": [
    {
     "name": "stdout",
     "output_type": "stream",
     "text": [
      "train_data_prepaired\n",
      "CPU times: total: 3min 23s\n",
      "Wall time: 2min 46s\n"
     ]
    }
   ],
   "source": [
    "%%time\n",
    "pred=EstimatedTravelTime(df, dfinput)"
   ]
  },
  {
   "cell_type": "code",
   "execution_count": null,
   "id": "65d3587b",
   "metadata": {},
   "outputs": [],
   "source": []
  }
 ],
 "metadata": {
  "kernelspec": {
   "display_name": "Python 3 (ipykernel)",
   "language": "python",
   "name": "python3"
  },
  "language_info": {
   "codemirror_mode": {
    "name": "ipython",
    "version": 3
   },
   "file_extension": ".py",
   "mimetype": "text/x-python",
   "name": "python",
   "nbconvert_exporter": "python",
   "pygments_lexer": "ipython3",
   "version": "3.10.8"
  }
 },
 "nbformat": 4,
 "nbformat_minor": 5
}
