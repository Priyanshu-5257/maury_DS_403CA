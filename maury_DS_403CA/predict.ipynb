{
 "cells": [
  {
   "cell_type": "code",
   "execution_count": 1,
   "id": "0cde9020",
   "metadata": {},
   "outputs": [
    {
     "name": "stderr",
     "output_type": "stream",
     "text": [
      "C:\\Users\\Priyanshu\\project_1\\env\\lib\\site-packages\\scipy\\__init__.py:146: UserWarning: A NumPy version >=1.16.5 and <1.23.0 is required for this version of SciPy (detected version 1.23.4\n",
      "  warnings.warn(f\"A NumPy version >={np_minversion} and <{np_maxversion}\"\n"
     ]
    }
   ],
   "source": [
    "import pandas as pd\n",
    "import numpy as np\n",
    "from sklearn.neighbors import BallTree\n",
    "from sklearn.metrics import mean_squared_error "
   ]
  },
  {
   "cell_type": "code",
   "execution_count": 20,
   "id": "2f41a6f9",
   "metadata": {},
   "outputs": [],
   "source": [
    "pd.options.mode.chained_assignment = None  # default='warn'\n",
    "import warnings\n",
    "warnings.filterwarnings('ignore')"
   ]
  },
  {
   "cell_type": "code",
   "execution_count": 36,
   "id": "9785f1e8",
   "metadata": {},
   "outputs": [],
   "source": [
    "df=pd.read_parquet(\"BMTC.parquet.gzip\",engine='pyarrow')"
   ]
  },
  {
   "cell_type": "code",
   "execution_count": 37,
   "id": "5b944fb6",
   "metadata": {},
   "outputs": [],
   "source": [
    "dfinput=pd.read_csv(\"Input.csv\",index_col=\"Unnamed: 0\")"
   ]
  },
  {
   "cell_type": "code",
   "execution_count": 38,
   "id": "462cae65",
   "metadata": {},
   "outputs": [],
   "source": [
    "def csd(lat1, lon1, lat2, lon2, r=6371):\n",
    "    coordinates = lat1, lon1, lat2, lon2\n",
    "#    phi1, lambda1, phi2, lambda2 = [\n",
    "#        radians(c) for c in coordinates\n",
    "#    ]    \n",
    "    phi1=np.radians(lat1)\n",
    "    lambda1=np.radians(lon1)\n",
    "    phi2=np.radians(lat2)\n",
    "    lambda2=np.radians(lon2)\n",
    "    a = (np.square(np.sin((phi2-phi1)/2)) + np.cos(phi1) * np.cos(phi2) * \n",
    "         np.square(np.sin((lambda2-lambda1)/2)))\n",
    "    d = 2*r*np.arcsin(np.sqrt(a))\n",
    "    return d"
   ]
  },
  {
   "cell_type": "code",
   "execution_count": 39,
   "id": "3451e63d",
   "metadata": {},
   "outputs": [],
   "source": [
    "def EstimatedTravelTime(df, test):\n",
    "    tstamp = df['Timestamp'].astype(\"string\").str.split(' ',expand=True)\n",
    "    tstamp=tstamp.drop(0,axis=1)\n",
    "    tstamp=tstamp[1].astype(\"string\").str.split(':',expand=True)\n",
    "    tstamp=tstamp.astype(int)\n",
    "    df[\"Time\"]=tstamp[0]*60 + tstamp[1] + tstamp[2]*(1/60)\n",
    "    df[\"Time\"]=df[\"Time\"]-df[\"Time\"][0]\n",
    "    df=df.drop(\"Timestamp\",axis=1)\n",
    "    busid=df[\"BusID\"].unique()\n",
    "    test_s=test.drop([\"Dest_Lat\",\"Dest_Long\"],axis=1)\n",
    "    test_d=test.drop([\"Source_Lat\",\"Source_Long\"],axis=1)\n",
    "\n",
    "    time_report=test.copy()\n",
    "    time_report=time_report.drop([\"Source_Lat\",\"Source_Long\",\"Dest_Lat\",\"Dest_Long\"],axis=1)\n",
    "\n",
    "    dist_report=test.copy()\n",
    "    dist_report=dist_report.drop([\"Source_Lat\",\"Source_Long\",\"Dest_Lat\",\"Dest_Long\"],axis=1)\n",
    "\n",
    "    dist=csd(test[\"Source_Lat\"],test[\"Source_Long\"],test[\"Dest_Lat\"],test[\"Dest_Long\"])\n",
    "    tt=[]\n",
    "    print(\"train_data_prepaired\")\n",
    "    \n",
    "    for i in busid:\n",
    "        bus=df[(df[\"BusID\"]==i)]\n",
    "        X=bus.drop([\"BusID\",\"Speed\",\"Time\"],axis=1)\n",
    "        bt=BallTree(X,metric='haversine')\n",
    "        KNN=8\n",
    "        if (len(bus)<KNN):\n",
    "             KNN=len(bus)\n",
    "        a,s=bt.query(test_s,k=KNN)\n",
    "        a,d=bt.query(test_d,k=KNN)\n",
    "    \n",
    "        #time=np.array(bus[\"Time\"])[d] - np.array(bus[\"Time\"])[s]\n",
    "        time=pd.DataFrame()\n",
    "        DD=pd.DataFrame(np.array(bus[\"Time\"])[d])\n",
    "        SS=pd.DataFrame(np.array(bus[\"Time\"])[s])\n",
    "        for p in range(KNN):\n",
    "            for q in range(KNN):\n",
    "                time[(p+1)*(q+1)]=DD[p]-SS[q]\n",
    "        time[(time<=0)]=100000\n",
    "        time=time.T.min()\n",
    "        time_report[i]=time\n",
    "    \n",
    "        lat_d=pd.DataFrame(np.array(bus[\"Latitude\"])[d]).T.min()\n",
    "        lat_s=pd.DataFrame(np.array(bus[\"Latitude\"])[s]).T.min()\n",
    "    \n",
    "        long_d=pd.DataFrame(np.array(bus[\"Longitude\"])[d]).T.min()\n",
    "        long_s=pd.DataFrame(np.array(bus[\"Longitude\"])[s]).T.min()    \n",
    "    \n",
    "        d_d=csd(lat_d,long_d,test[\"Dest_Lat\"],test[\"Dest_Long\"])\n",
    "        d_s=csd(lat_s,long_s,test[\"Source_Lat\"],test[\"Source_Long\"])\n",
    "        t_d=d_d + d_s\n",
    "        dist_report[i]=t_d\n",
    "    \n",
    "    for k in range(len(test)):\n",
    "        loc=loc=((5*dist_report.iloc[k] +1*dist_report.iloc[k]*time_report.iloc[k])==(5*dist_report.iloc[k] +1*dist_report.iloc[k]*time_report.iloc[k]).min())\n",
    "        t=time_report.iloc[k][loc]    \n",
    "        t=t+dist_report.iloc[k][loc]*6\n",
    "        tt.append(np.array(t))\n",
    "    test[\"ETT\"] = np.array(tt)\n",
    "    return(test)"
   ]
  },
  {
   "cell_type": "code",
   "execution_count": 40,
   "id": "3d5e025f",
   "metadata": {},
   "outputs": [
    {
     "name": "stdout",
     "output_type": "stream",
     "text": [
      "train_data_prepaired\n",
      "CPU times: total: 3min 23s\n",
      "Wall time: 2min 46s\n"
     ]
    }
   ],
   "source": [
    "%%time\n",
    "pred=EstimatedTravelTime(df, dfinput)"
   ]
  },
  {
   "cell_type": "code",
   "execution_count": 41,
   "id": "0d95cc97",
   "metadata": {},
   "outputs": [
    {
     "data": {
      "text/html": [
       "<div>\n",
       "<style scoped>\n",
       "    .dataframe tbody tr th:only-of-type {\n",
       "        vertical-align: middle;\n",
       "    }\n",
       "\n",
       "    .dataframe tbody tr th {\n",
       "        vertical-align: top;\n",
       "    }\n",
       "\n",
       "    .dataframe thead th {\n",
       "        text-align: right;\n",
       "    }\n",
       "</style>\n",
       "<table border=\"1\" class=\"dataframe\">\n",
       "  <thead>\n",
       "    <tr style=\"text-align: right;\">\n",
       "      <th></th>\n",
       "      <th>Source_Lat</th>\n",
       "      <th>Source_Long</th>\n",
       "      <th>Dest_Lat</th>\n",
       "      <th>Dest_Long</th>\n",
       "      <th>ETT</th>\n",
       "    </tr>\n",
       "  </thead>\n",
       "  <tbody>\n",
       "    <tr>\n",
       "      <th>0</th>\n",
       "      <td>12.941644</td>\n",
       "      <td>77.557335</td>\n",
       "      <td>12.942002</td>\n",
       "      <td>77.551605</td>\n",
       "      <td>2.646177</td>\n",
       "    </tr>\n",
       "    <tr>\n",
       "      <th>1</th>\n",
       "      <td>12.845487</td>\n",
       "      <td>77.662079</td>\n",
       "      <td>12.845881</td>\n",
       "      <td>77.667892</td>\n",
       "      <td>3.276874</td>\n",
       "    </tr>\n",
       "    <tr>\n",
       "      <th>2</th>\n",
       "      <td>12.973492</td>\n",
       "      <td>77.622871</td>\n",
       "      <td>12.957303</td>\n",
       "      <td>77.621246</td>\n",
       "      <td>19.957694</td>\n",
       "    </tr>\n",
       "    <tr>\n",
       "      <th>3</th>\n",
       "      <td>12.819298</td>\n",
       "      <td>77.688995</td>\n",
       "      <td>12.814241</td>\n",
       "      <td>77.692986</td>\n",
       "      <td>1.300682</td>\n",
       "    </tr>\n",
       "    <tr>\n",
       "      <th>4</th>\n",
       "      <td>12.973240</td>\n",
       "      <td>77.615402</td>\n",
       "      <td>13.016170</td>\n",
       "      <td>77.627800</td>\n",
       "      <td>36.330526</td>\n",
       "    </tr>\n",
       "    <tr>\n",
       "      <th>5</th>\n",
       "      <td>12.992674</td>\n",
       "      <td>77.711830</td>\n",
       "      <td>12.992256</td>\n",
       "      <td>77.717758</td>\n",
       "      <td>3.751594</td>\n",
       "    </tr>\n",
       "    <tr>\n",
       "      <th>6</th>\n",
       "      <td>13.085214</td>\n",
       "      <td>77.504883</td>\n",
       "      <td>13.089375</td>\n",
       "      <td>77.510239</td>\n",
       "      <td>3.181552</td>\n",
       "    </tr>\n",
       "    <tr>\n",
       "      <th>7</th>\n",
       "      <td>12.892545</td>\n",
       "      <td>77.637688</td>\n",
       "      <td>12.902433</td>\n",
       "      <td>77.631485</td>\n",
       "      <td>5.185119</td>\n",
       "    </tr>\n",
       "    <tr>\n",
       "      <th>8</th>\n",
       "      <td>12.914073</td>\n",
       "      <td>77.677109</td>\n",
       "      <td>12.920435</td>\n",
       "      <td>77.665199</td>\n",
       "      <td>3.274080</td>\n",
       "    </tr>\n",
       "    <tr>\n",
       "      <th>9</th>\n",
       "      <td>12.850122</td>\n",
       "      <td>77.691895</td>\n",
       "      <td>12.828327</td>\n",
       "      <td>77.681847</td>\n",
       "      <td>12.865395</td>\n",
       "    </tr>\n",
       "    <tr>\n",
       "      <th>10</th>\n",
       "      <td>12.900307</td>\n",
       "      <td>77.543839</td>\n",
       "      <td>12.904333</td>\n",
       "      <td>77.526543</td>\n",
       "      <td>9.873098</td>\n",
       "    </tr>\n",
       "    <tr>\n",
       "      <th>11</th>\n",
       "      <td>12.916436</td>\n",
       "      <td>77.634163</td>\n",
       "      <td>12.923277</td>\n",
       "      <td>77.646187</td>\n",
       "      <td>4.213026</td>\n",
       "    </tr>\n",
       "    <tr>\n",
       "      <th>12</th>\n",
       "      <td>12.956146</td>\n",
       "      <td>77.730095</td>\n",
       "      <td>12.936775</td>\n",
       "      <td>77.744904</td>\n",
       "      <td>11.402261</td>\n",
       "    </tr>\n",
       "    <tr>\n",
       "      <th>13</th>\n",
       "      <td>12.882480</td>\n",
       "      <td>77.566002</td>\n",
       "      <td>12.921233</td>\n",
       "      <td>77.573547</td>\n",
       "      <td>39.520421</td>\n",
       "    </tr>\n",
       "    <tr>\n",
       "      <th>14</th>\n",
       "      <td>12.871475</td>\n",
       "      <td>77.652405</td>\n",
       "      <td>12.859189</td>\n",
       "      <td>77.661942</td>\n",
       "      <td>4.204887</td>\n",
       "    </tr>\n",
       "  </tbody>\n",
       "</table>\n",
       "</div>"
      ],
      "text/plain": [
       "    Source_Lat  Source_Long   Dest_Lat  Dest_Long        ETT\n",
       "0    12.941644    77.557335  12.942002  77.551605   2.646177\n",
       "1    12.845487    77.662079  12.845881  77.667892   3.276874\n",
       "2    12.973492    77.622871  12.957303  77.621246  19.957694\n",
       "3    12.819298    77.688995  12.814241  77.692986   1.300682\n",
       "4    12.973240    77.615402  13.016170  77.627800  36.330526\n",
       "5    12.992674    77.711830  12.992256  77.717758   3.751594\n",
       "6    13.085214    77.504883  13.089375  77.510239   3.181552\n",
       "7    12.892545    77.637688  12.902433  77.631485   5.185119\n",
       "8    12.914073    77.677109  12.920435  77.665199   3.274080\n",
       "9    12.850122    77.691895  12.828327  77.681847  12.865395\n",
       "10   12.900307    77.543839  12.904333  77.526543   9.873098\n",
       "11   12.916436    77.634163  12.923277  77.646187   4.213026\n",
       "12   12.956146    77.730095  12.936775  77.744904  11.402261\n",
       "13   12.882480    77.566002  12.921233  77.573547  39.520421\n",
       "14   12.871475    77.652405  12.859189  77.661942   4.204887"
      ]
     },
     "execution_count": 41,
     "metadata": {},
     "output_type": "execute_result"
    }
   ],
   "source": [
    "pred.head(15)"
   ]
  },
  {
   "cell_type": "code",
   "execution_count": 42,
   "id": "a48d054b",
   "metadata": {},
   "outputs": [],
   "source": [
    "gd=pd.read_csv(\"GroundTruth.csv\",index_col=\"Unnamed: 0\")"
   ]
  },
  {
   "cell_type": "code",
   "execution_count": 43,
   "id": "8a8f130c",
   "metadata": {},
   "outputs": [],
   "source": [
    "from sklearn.metrics import mean_squared_error"
   ]
  },
  {
   "cell_type": "code",
   "execution_count": 44,
   "id": "593a1982",
   "metadata": {},
   "outputs": [
    {
     "data": {
      "text/plain": [
       "12.002914299734279"
      ]
     },
     "execution_count": 44,
     "metadata": {},
     "output_type": "execute_result"
    }
   ],
   "source": [
    "(mean_squared_error(gd[\"TT\"],pred[\"ETT\"]))**0.5"
   ]
  },
  {
   "cell_type": "code",
   "execution_count": 35,
   "id": "fe59e73b",
   "metadata": {},
   "outputs": [
    {
     "data": {
      "text/plain": [
       "12.420076123049464"
      ]
     },
     "execution_count": 35,
     "metadata": {},
     "output_type": "execute_result"
    }
   ],
   "source": [
    "(mean_squared_error(gd[\"TT\"],pred[\"ETT\"]))**0.5"
   ]
  },
  {
   "cell_type": "code",
   "execution_count": null,
   "id": "1594c244",
   "metadata": {},
   "outputs": [],
   "source": [
    "test_s"
   ]
  },
  {
   "cell_type": "code",
   "execution_count": null,
   "id": "7c124358",
   "metadata": {},
   "outputs": [],
   "source": [
    "test"
   ]
  },
  {
   "cell_type": "code",
   "execution_count": null,
   "id": "678a24a5",
   "metadata": {},
   "outputs": [],
   "source": [
    "dfinput"
   ]
  },
  {
   "cell_type": "code",
   "execution_count": null,
   "id": "65d3587b",
   "metadata": {},
   "outputs": [],
   "source": []
  }
 ],
 "metadata": {
  "kernelspec": {
   "display_name": "Python 3 (ipykernel)",
   "language": "python",
   "name": "python3"
  },
  "language_info": {
   "codemirror_mode": {
    "name": "ipython",
    "version": 3
   },
   "file_extension": ".py",
   "mimetype": "text/x-python",
   "name": "python",
   "nbconvert_exporter": "python",
   "pygments_lexer": "ipython3",
   "version": "3.10.8"
  }
 },
 "nbformat": 4,
 "nbformat_minor": 5
}
